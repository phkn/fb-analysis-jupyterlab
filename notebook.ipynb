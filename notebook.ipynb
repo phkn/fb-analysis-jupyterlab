{
 "cells": [
  {
   "cell_type": "code",
   "execution_count": 8,
   "metadata": {},
   "outputs": [
    {
     "name": "stdout",
     "output_type": "stream",
     "text": [
      "2290 items in bucket\n"
     ]
    }
   ],
   "source": [
    "import config\n",
    "#print(config.STORAGE_BUCKET)\n",
    "#print(config.FB_EXPORT_LOCATION)\n",
    "\n",
    "from google.cloud import storage\n",
    "client = storage.Client()\n",
    "#print(\"Client created using default project: {}\".format(client.project))\n",
    "bucket = bucket = client.get_bucket(config.STORAGE_BUCKET)\n",
    "blobs = bucket.list_blobs()\n",
    "\n",
    "count=0\n",
    "#print(\"Blobs in {}:\".format(bucket.name))\n",
    "for item in blobs:\n",
    "     count+=1\n",
    "#    print(\"\\t\" + item.name)\n",
    "print(\"{} items in bucket\".format(count))"
   ]
  },
  {
   "cell_type": "code",
   "execution_count": null,
   "metadata": {},
   "outputs": [],
   "source": []
  }
 ],
 "metadata": {
  "kernelspec": {
   "display_name": "Python 3",
   "language": "python",
   "name": "python3"
  },
  "language_info": {
   "codemirror_mode": {
    "name": "ipython",
    "version": 3
   },
   "file_extension": ".py",
   "mimetype": "text/x-python",
   "name": "python",
   "nbconvert_exporter": "python",
   "pygments_lexer": "ipython3",
   "version": "3.5.3"
  }
 },
 "nbformat": 4,
 "nbformat_minor": 2
}
