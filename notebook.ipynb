{
 "cells": [
  {
   "cell_type": "code",
   "execution_count": 1,
   "metadata": {},
   "outputs": [
    {
     "name": "stdout",
     "output_type": "stream",
     "text": [
      "2290 items in bucket\n"
     ]
    }
   ],
   "source": [
    "import config\n",
    "#print(config.STORAGE_BUCKET)\n",
    "#print(config.FB_EXPORT_LOCATION)\n",
    "import io\n",
    "import json\n",
    "\n",
    "from google.cloud import storage\n",
    "client = storage.Client()\n",
    "#print(\"Client created using default project: {}\".format(client.project))\n",
    "bucket = bucket = client.get_bucket(config.STORAGE_BUCKET)\n",
    "blobs = bucket.list_blobs()\n",
    "\n",
    "count=0\n",
    "#print(\"Blobs in {}:\".format(bucket.name))\n",
    "for item in blobs:\n",
    "    count+=1\n",
    "    #print(\"\\t\" + item.name)\n",
    "print(\"{} items in bucket\".format(count))"
   ]
  },
  {
   "cell_type": "code",
   "execution_count": 3,
   "metadata": {},
   "outputs": [
    {
     "name": "stdout",
     "output_type": "stream",
     "text": [
      ".../comments/comments.json: True\n",
      ".../likes_and_reactions/posts_and_comments.json: True\n",
      ".../posts/other_people's_posts_to_your_timeline.json: True\n",
      ".../friends/friends.json: True\n",
      ".../security_and_login_information/used_ip_addresses.json: True\n",
      ".../search_history/your_search_history.json: True\n",
      ".../posts/your_posts.json: True\n",
      ".../friends/removed_friends.json: True\n",
      ".../security_and_login_information/account_activity.json: True\n"
     ]
    }
   ],
   "source": [
    "#bucket.get_blob()\n",
    "FB_FILES = {\n",
    "\"comments/comments.json\",\n",
    "\"friends/friends.json\",\n",
    "\"friends/removed_friends.json\",\n",
    "\"likes_and_reactions/posts_and_comments.json\",\n",
    "\"posts/other_people's_posts_to_your_timeline.json\",\n",
    "\"posts/your_posts.json\",\n",
    "\"search_history/your_search_history.json\",\n",
    "\"security_and_login_information/account_activity.json\",\n",
    "\"security_and_login_information/used_ip_addresses.json\"\n",
    "}\n",
    "\n",
    "for f in FB_FILES:\n",
    "    fpath = config.FB_EXPORT_LOCATION + \"/\" + f\n",
    "    fblob = bucket.blob(fpath)\n",
    "    if fblob.exists():\n",
    "        fbytes = fblob.download_as_string()\n",
    "        fstr = fbytes.decode('utf8').replace(\"'\", '\"')[1:-1]\n",
    "        print(\".../\" + f + \": \" + len(fstr))\n",
    "#        print(fstr[:1000])\n",
    "#        \n",
    "#        fobj = json.loads(fstr)\n"
   ]
  },
  {
   "cell_type": "code",
   "execution_count": null,
   "metadata": {},
   "outputs": [],
   "source": []
  }
 ],
 "metadata": {
  "kernelspec": {
   "display_name": "Python 3",
   "language": "python",
   "name": "python3"
  },
  "language_info": {
   "codemirror_mode": {
    "name": "ipython",
    "version": 3
   },
   "file_extension": ".py",
   "mimetype": "text/x-python",
   "name": "python",
   "nbconvert_exporter": "python",
   "pygments_lexer": "ipython3",
   "version": "3.5.3"
  }
 },
 "nbformat": 4,
 "nbformat_minor": 2
}
